{
 "cells": [
  {
   "cell_type": "code",
   "execution_count": 28,
   "id": "a952a017",
   "metadata": {},
   "outputs": [
    {
     "name": "stdout",
     "output_type": "stream",
     "text": [
      "Collecting deepctr==0.8.1\n",
      "  Downloading deepctr-0.8.1-py3-none-any.whl (110 kB)\n",
      "     |████████████████████████████████| 110 kB 34.4 MB/s            \n",
      "\u001b[?25hRequirement already satisfied: requests in /home/ec2-user/anaconda3/envs/python3/lib/python3.6/site-packages (from deepctr==0.8.1) (2.26.0)\n",
      "Requirement already satisfied: h5py in /home/ec2-user/anaconda3/envs/python3/lib/python3.6/site-packages (from deepctr==0.8.1) (2.10.0)\n",
      "Requirement already satisfied: six in /home/ec2-user/anaconda3/envs/python3/lib/python3.6/site-packages (from h5py->deepctr==0.8.1) (1.15.0)\n",
      "Requirement already satisfied: numpy>=1.7 in /home/ec2-user/anaconda3/envs/python3/lib/python3.6/site-packages (from h5py->deepctr==0.8.1) (1.19.5)\n",
      "Requirement already satisfied: certifi>=2017.4.17 in /home/ec2-user/anaconda3/envs/python3/lib/python3.6/site-packages (from requests->deepctr==0.8.1) (2021.5.30)\n",
      "Requirement already satisfied: charset-normalizer~=2.0.0 in /home/ec2-user/anaconda3/envs/python3/lib/python3.6/site-packages (from requests->deepctr==0.8.1) (2.0.9)\n",
      "Requirement already satisfied: urllib3<1.27,>=1.21.1 in /home/ec2-user/anaconda3/envs/python3/lib/python3.6/site-packages (from requests->deepctr==0.8.1) (1.26.8)\n",
      "Requirement already satisfied: idna<4,>=2.5 in /home/ec2-user/anaconda3/envs/python3/lib/python3.6/site-packages (from requests->deepctr==0.8.1) (3.1)\n",
      "Installing collected packages: deepctr\n",
      "  Attempting uninstall: deepctr\n",
      "    Found existing installation: deepctr 0.9.0\n",
      "    Uninstalling deepctr-0.9.0:\n",
      "      Successfully uninstalled deepctr-0.9.0\n",
      "\u001b[31mERROR: pip's dependency resolver does not currently take into account all the packages that are installed. This behaviour is the source of the following dependency conflicts.\n",
      "deepmatch 0.2.0 requires deepctr==0.8.2, but you have deepctr 0.8.1 which is incompatible.\u001b[0m\n",
      "Successfully installed deepctr-0.8.1\n",
      "Note: you may need to restart the kernel to use updated packages.\n"
     ]
    }
   ],
   "source": [
    "pip install -U deepctr==0.8.1"
   ]
  },
  {
   "cell_type": "code",
   "execution_count": 1,
   "id": "32699a4b",
   "metadata": {},
   "outputs": [
    {
     "data": {
      "text/plain": [
       "'0.8.1'"
      ]
     },
     "execution_count": 1,
     "metadata": {},
     "output_type": "execute_result"
    }
   ],
   "source": [
    "import deepctr\n",
    "deepctr.__version__"
   ]
  },
  {
   "cell_type": "code",
   "execution_count": 3,
   "id": "87faa7ec",
   "metadata": {},
   "outputs": [],
   "source": [
    "# pip install deepmatch\n"
   ]
  },
  {
   "cell_type": "code",
   "execution_count": 2,
   "id": "ead4bdc7",
   "metadata": {},
   "outputs": [],
   "source": [
    "import pandas as pd\n",
    "from sklearn.utils import shuffle\n",
    "from sklearn.model_selection import train_test_split\n",
    "\n",
    "from keras.utils.vis_utils import plot_model"
   ]
  },
  {
   "cell_type": "code",
   "execution_count": 3,
   "id": "c0d344d9",
   "metadata": {},
   "outputs": [],
   "source": [
    "import pandas as pd\n",
    "masterdf = pd.read_csv('s3a://hluan/hm/sampled_10_users_transactions.csv', dtype={\"article_id\": \"str\"})"
   ]
  },
  {
   "cell_type": "code",
   "execution_count": 4,
   "id": "4567498d",
   "metadata": {},
   "outputs": [],
   "source": [
    "from datetime import datetime\n",
    "masterdf['t_dat'] = pd.to_datetime(masterdf['t_dat'])"
   ]
  },
  {
   "cell_type": "code",
   "execution_count": 5,
   "id": "8756af38",
   "metadata": {},
   "outputs": [],
   "source": [
    "masterdf['t_dat'] = datetime(2020, 9, 22) - masterdf['t_dat']\n",
    "masterdf['t_dat'] = (masterdf['t_dat'].dt.days / 7).astype('int')"
   ]
  },
  {
   "cell_type": "code",
   "execution_count": 6,
   "id": "4ad6acb0",
   "metadata": {},
   "outputs": [],
   "source": [
    "masterdf['t_dat'] = 104 - masterdf['t_dat']"
   ]
  },
  {
   "cell_type": "code",
   "execution_count": 81,
   "id": "4053de96",
   "metadata": {},
   "outputs": [],
   "source": [
    "master_df_part = masterdf[['t_dat', 'customer_id', 'article_id', 'price']]"
   ]
  },
  {
   "cell_type": "code",
   "execution_count": 82,
   "id": "a6e1ebc4",
   "metadata": {},
   "outputs": [],
   "source": [
    "master_df_part = master_df_part[master_df_part['t_dat'] > 50]"
   ]
  },
  {
   "cell_type": "code",
   "execution_count": 83,
   "id": "f8ad71a5",
   "metadata": {},
   "outputs": [],
   "source": [
    "master_df_part['rating'] = 1"
   ]
  },
  {
   "cell_type": "code",
   "execution_count": 84,
   "id": "241fc8b8",
   "metadata": {},
   "outputs": [],
   "source": [
    "interactions_dict = master_df_part.groupby(['customer_id', \n",
    "                                      'article_id',\n",
    "                                      't_dat'])[['rating', 'price']].sum().reset_index()"
   ]
  },
  {
   "cell_type": "code",
   "execution_count": 85,
   "id": "193bfb62",
   "metadata": {},
   "outputs": [
    {
     "data": {
      "text/plain": [
       "(1369514, 5)"
      ]
     },
     "execution_count": 85,
     "metadata": {},
     "output_type": "execute_result"
    }
   ],
   "source": [
    "interactions_dict.shape"
   ]
  },
  {
   "cell_type": "code",
   "execution_count": null,
   "id": "ca53f1aa",
   "metadata": {},
   "outputs": [],
   "source": []
  },
  {
   "cell_type": "code",
   "execution_count": 86,
   "id": "a1a8a549",
   "metadata": {},
   "outputs": [],
   "source": [
    "input_data_path = \"\"\n",
    "customers = pd.read_csv(f'{input_data_path}customers.csv', dtype={\"article_id\": \"str\"})\n",
    "articles = pd.read_csv(f'{input_data_path}articles.csv', dtype={\"article_id\": \"str\"})"
   ]
  },
  {
   "cell_type": "code",
   "execution_count": 87,
   "id": "b3c47245",
   "metadata": {},
   "outputs": [],
   "source": [
    "articles_processed = articles[['article_id', \n",
    "       'prod_name', \n",
    "       'product_type_name', 'product_group_name', \n",
    "       'graphical_appearance_name', 'colour_group_name',\n",
    "       'perceived_colour_value_name',\n",
    "       'perceived_colour_master_name',\n",
    "       'department_name', 'index_name',\n",
    "       'index_group_name', 'section_name',\n",
    "       'garment_group_name']]"
   ]
  },
  {
   "cell_type": "code",
   "execution_count": 88,
   "id": "9669dc48",
   "metadata": {},
   "outputs": [],
   "source": [
    "bins = [0, 35, 45, 55, 120]\n",
    "labels = [1,2,3,4]\n",
    "customers['age_group'] = pd.cut(customers['age'], bins=bins, labels=labels)"
   ]
  },
  {
   "cell_type": "code",
   "execution_count": 89,
   "id": "c9206ecf",
   "metadata": {},
   "outputs": [],
   "source": [
    "interactions_dict = interactions_dict[['t_dat', 'customer_id', 'article_id', 'rating', 'price']]\\\n",
    "    .merge(articles_processed, on='article_id', how='left')\\\n",
    "    .merge(customers[['customer_id', 'age_group']], on='customer_id', how='left')\\"
   ]
  },
  {
   "cell_type": "code",
   "execution_count": 90,
   "id": "88040f3f",
   "metadata": {},
   "outputs": [],
   "source": [
    "interactions_dict['age_group'] = interactions_dict['age_group'].fillna(1)\n"
   ]
  },
  {
   "cell_type": "code",
   "execution_count": 91,
   "id": "bbc72ed9",
   "metadata": {},
   "outputs": [
    {
     "data": {
      "text/plain": [
       "Index(['t_dat', 'customer_id', 'article_id', 'rating', 'price', 'prod_name',\n",
       "       'product_type_name', 'product_group_name', 'graphical_appearance_name',\n",
       "       'colour_group_name', 'perceived_colour_value_name',\n",
       "       'perceived_colour_master_name', 'department_name', 'index_name',\n",
       "       'index_group_name', 'section_name', 'garment_group_name', 'age_group'],\n",
       "      dtype='object')"
      ]
     },
     "execution_count": 91,
     "metadata": {},
     "output_type": "execute_result"
    }
   ],
   "source": [
    "interactions_dict.columns"
   ]
  },
  {
   "cell_type": "code",
   "execution_count": 92,
   "id": "97e85e43",
   "metadata": {},
   "outputs": [
    {
     "data": {
      "text/plain": [
       "t_dat                           0\n",
       "customer_id                     0\n",
       "article_id                      0\n",
       "rating                          0\n",
       "price                           0\n",
       "prod_name                       0\n",
       "product_type_name               0\n",
       "product_group_name              0\n",
       "graphical_appearance_name       0\n",
       "colour_group_name               0\n",
       "perceived_colour_value_name     0\n",
       "perceived_colour_master_name    0\n",
       "department_name                 0\n",
       "index_name                      0\n",
       "index_group_name                0\n",
       "section_name                    0\n",
       "garment_group_name              0\n",
       "age_group                       0\n",
       "dtype: int64"
      ]
     },
     "execution_count": 92,
     "metadata": {},
     "output_type": "execute_result"
    }
   ],
   "source": [
    "interactions_dict.isnull().sum()"
   ]
  },
  {
   "cell_type": "code",
   "execution_count": 93,
   "id": "f46fdbd2",
   "metadata": {},
   "outputs": [],
   "source": [
    "import random\n",
    "import numpy as np\n",
    "from tqdm import tqdm\n",
    "from tensorflow.python.keras.preprocessing.sequence import pad_sequences\n",
    "\n",
    "def gen_data_set(data, negsample=0):\n",
    "\n",
    "    data.sort_values(\"t_dat\", inplace=True)\n",
    "    item_ids = data['article_id'].unique()\n",
    "\n",
    "    train_set = []\n",
    "    test_set = []\n",
    "    for reviewerID, hist in tqdm(data.groupby('customer_id')):\n",
    "        pos_list = hist['article_id'].tolist()\n",
    "        rating_list = hist['rating'].tolist()\n",
    "\n",
    "        if negsample > 0:\n",
    "            candidate_set = list(set(item_ids) - set(pos_list))\n",
    "            neg_list = np.random.choice(candidate_set,size=len(pos_list)*negsample,replace=True)\n",
    "        for i in range(1, len(pos_list)):\n",
    "            hist = pos_list[:i]\n",
    "            if i != len(pos_list) - 1:\n",
    "                train_set.append((reviewerID, hist[::-1], pos_list[i], 1, len(hist[::-1]),rating_list[i]))\n",
    "                for negi in range(negsample):\n",
    "                    train_set.append((reviewerID, hist[::-1], neg_list[i*negsample+negi], 0,len(hist[::-1])))\n",
    "            else:\n",
    "                test_set.append((reviewerID, hist[::-1], pos_list[i],1,len(hist[::-1]),rating_list[i]))\n",
    "\n",
    "    random.shuffle(train_set)\n",
    "    random.shuffle(test_set)\n",
    "\n",
    "    print(len(train_set[0]),len(test_set[0]))\n",
    "\n",
    "    return train_set,test_set"
   ]
  },
  {
   "cell_type": "code",
   "execution_count": null,
   "id": "118cd7f3",
   "metadata": {},
   "outputs": [],
   "source": []
  },
  {
   "cell_type": "code",
   "execution_count": 94,
   "id": "7fbc720f",
   "metadata": {},
   "outputs": [],
   "source": [
    "import pandas as pd\n",
    "from deepctr.feature_column import SparseFeat, VarLenSparseFeat\n",
    "from sklearn.preprocessing import LabelEncoder\n",
    "from tensorflow.python.keras.models import Model\n",
    "\n",
    "from deepmatch.models import *"
   ]
  },
  {
   "cell_type": "code",
   "execution_count": 95,
   "id": "4059d7f9",
   "metadata": {},
   "outputs": [
    {
     "name": "stderr",
     "output_type": "stream",
     "text": [
      "100%|██████████| 54060/54060 [05:07<00:00, 175.98it/s]\n"
     ]
    },
    {
     "name": "stdout",
     "output_type": "stream",
     "text": [
      "5 6\n"
     ]
    }
   ],
   "source": [
    "data = interactions_dict.sample(frac=0.1)\n",
    "sparse_features = ['customer_id', 'article_id', 'sales_channel_id', 'FN',\n",
    "       'Active', 'club_member_status', 'fashion_news_frequency', 'age',\n",
    "       'postal_code', 'product_code', 'product_type_no', 'product_group_code',\n",
    "       'graphical_appearance_no', 'colour_group_code',\n",
    "       'perceived_colour_value_id', 'perceived_colour_master_id',\n",
    "       'department_no', 'index_code_id', 'index_group_no', 'section_no',\n",
    "       'garment_group_no',]\n",
    "SEQ_LEN = 30\n",
    "negsample = 1\n",
    "\n",
    "# 1.Label Encoding for sparse features,and process sequence features with `gen_date_set` and `gen_model_input`\n",
    "\n",
    "features = ['customer_id', 'article_id', 'rating', 'prod_name',\n",
    "       'product_type_name', 'product_group_name', 'graphical_appearance_name',\n",
    "       'colour_group_name', 'perceived_colour_value_name',\n",
    "       'perceived_colour_master_name', 'department_name', 'index_name',\n",
    "       'index_group_name', 'section_name', 'garment_group_name', 'age_group']\n",
    "feature_max_idx = {}\n",
    "for feature in features:\n",
    "    lbe = LabelEncoder()\n",
    "    data[feature] = lbe.fit_transform(data[feature]) + 1\n",
    "    feature_max_idx[feature] = data[feature].max() + 1\n",
    "\n",
    "\n",
    "\n",
    "item_profile = data[['article_id', 'prod_name',\n",
    "       'product_type_name', 'product_group_name', 'graphical_appearance_name',\n",
    "       'colour_group_name', 'perceived_colour_value_name',\n",
    "       'perceived_colour_master_name', 'department_name', 'index_name',\n",
    "       'index_group_name', 'section_name', 'garment_group_name']].drop_duplicates('article_id')\n",
    "\n",
    "\n",
    "user_item_list = data.groupby(\"customer_id\")['article_id'].apply(list)\n",
    "\n",
    "train_set, test_set = gen_data_set(data, negsample)"
   ]
  },
  {
   "cell_type": "code",
   "execution_count": 64,
   "id": "f056bcde",
   "metadata": {},
   "outputs": [
    {
     "data": {
      "text/html": [
       "<div>\n",
       "<style scoped>\n",
       "    .dataframe tbody tr th:only-of-type {\n",
       "        vertical-align: middle;\n",
       "    }\n",
       "\n",
       "    .dataframe tbody tr th {\n",
       "        vertical-align: top;\n",
       "    }\n",
       "\n",
       "    .dataframe thead th {\n",
       "        text-align: right;\n",
       "    }\n",
       "</style>\n",
       "<table border=\"1\" class=\"dataframe\">\n",
       "  <thead>\n",
       "    <tr style=\"text-align: right;\">\n",
       "      <th></th>\n",
       "      <th>t_dat</th>\n",
       "      <th>customer_id</th>\n",
       "      <th>article_id</th>\n",
       "      <th>rating</th>\n",
       "      <th>price</th>\n",
       "      <th>prod_name</th>\n",
       "      <th>product_type_name</th>\n",
       "      <th>product_group_name</th>\n",
       "      <th>graphical_appearance_name</th>\n",
       "      <th>colour_group_name</th>\n",
       "      <th>perceived_colour_value_name</th>\n",
       "      <th>perceived_colour_master_name</th>\n",
       "      <th>department_name</th>\n",
       "      <th>index_name</th>\n",
       "      <th>index_group_name</th>\n",
       "      <th>section_name</th>\n",
       "      <th>garment_group_name</th>\n",
       "      <th>age_group</th>\n",
       "    </tr>\n",
       "  </thead>\n",
       "  <tbody>\n",
       "    <tr>\n",
       "      <th>76381</th>\n",
       "      <td>91</td>\n",
       "      <td>4470</td>\n",
       "      <td>8178</td>\n",
       "      <td>1</td>\n",
       "      <td>0.013542</td>\n",
       "      <td>7135</td>\n",
       "      <td>86</td>\n",
       "      <td>5</td>\n",
       "      <td>24</td>\n",
       "      <td>2</td>\n",
       "      <td>2</td>\n",
       "      <td>2</td>\n",
       "      <td>23</td>\n",
       "      <td>5</td>\n",
       "      <td>2</td>\n",
       "      <td>12</td>\n",
       "      <td>6</td>\n",
       "      <td>1</td>\n",
       "    </tr>\n",
       "    <tr>\n",
       "      <th>141756</th>\n",
       "      <td>91</td>\n",
       "      <td>8370</td>\n",
       "      <td>1140</td>\n",
       "      <td>1</td>\n",
       "      <td>0.011847</td>\n",
       "      <td>3633</td>\n",
       "      <td>71</td>\n",
       "      <td>4</td>\n",
       "      <td>7</td>\n",
       "      <td>3</td>\n",
       "      <td>6</td>\n",
       "      <td>3</td>\n",
       "      <td>147</td>\n",
       "      <td>7</td>\n",
       "      <td>3</td>\n",
       "      <td>43</td>\n",
       "      <td>12</td>\n",
       "      <td>1</td>\n",
       "    </tr>\n",
       "    <tr>\n",
       "      <th>12712</th>\n",
       "      <td>91</td>\n",
       "      <td>715</td>\n",
       "      <td>50</td>\n",
       "      <td>1</td>\n",
       "      <td>0.022017</td>\n",
       "      <td>305</td>\n",
       "      <td>25</td>\n",
       "      <td>3</td>\n",
       "      <td>24</td>\n",
       "      <td>2</td>\n",
       "      <td>2</td>\n",
       "      <td>2</td>\n",
       "      <td>23</td>\n",
       "      <td>5</td>\n",
       "      <td>2</td>\n",
       "      <td>12</td>\n",
       "      <td>6</td>\n",
       "      <td>1</td>\n",
       "    </tr>\n",
       "    <tr>\n",
       "      <th>310496</th>\n",
       "      <td>91</td>\n",
       "      <td>18349</td>\n",
       "      <td>4215</td>\n",
       "      <td>1</td>\n",
       "      <td>0.008458</td>\n",
       "      <td>1502</td>\n",
       "      <td>86</td>\n",
       "      <td>5</td>\n",
       "      <td>24</td>\n",
       "      <td>46</td>\n",
       "      <td>4</td>\n",
       "      <td>16</td>\n",
       "      <td>69</td>\n",
       "      <td>7</td>\n",
       "      <td>3</td>\n",
       "      <td>42</td>\n",
       "      <td>6</td>\n",
       "      <td>2</td>\n",
       "    </tr>\n",
       "    <tr>\n",
       "      <th>232671</th>\n",
       "      <td>91</td>\n",
       "      <td>13752</td>\n",
       "      <td>9785</td>\n",
       "      <td>1</td>\n",
       "      <td>0.021593</td>\n",
       "      <td>5233</td>\n",
       "      <td>9</td>\n",
       "      <td>5</td>\n",
       "      <td>24</td>\n",
       "      <td>47</td>\n",
       "      <td>5</td>\n",
       "      <td>17</td>\n",
       "      <td>28</td>\n",
       "      <td>7</td>\n",
       "      <td>3</td>\n",
       "      <td>41</td>\n",
       "      <td>2</td>\n",
       "      <td>1</td>\n",
       "    </tr>\n",
       "    <tr>\n",
       "      <th>...</th>\n",
       "      <td>...</td>\n",
       "      <td>...</td>\n",
       "      <td>...</td>\n",
       "      <td>...</td>\n",
       "      <td>...</td>\n",
       "      <td>...</td>\n",
       "      <td>...</td>\n",
       "      <td>...</td>\n",
       "      <td>...</td>\n",
       "      <td>...</td>\n",
       "      <td>...</td>\n",
       "      <td>...</td>\n",
       "      <td>...</td>\n",
       "      <td>...</td>\n",
       "      <td>...</td>\n",
       "      <td>...</td>\n",
       "      <td>...</td>\n",
       "      <td>...</td>\n",
       "    </tr>\n",
       "    <tr>\n",
       "      <th>393390</th>\n",
       "      <td>104</td>\n",
       "      <td>23293</td>\n",
       "      <td>617</td>\n",
       "      <td>1</td>\n",
       "      <td>0.016932</td>\n",
       "      <td>4910</td>\n",
       "      <td>86</td>\n",
       "      <td>5</td>\n",
       "      <td>24</td>\n",
       "      <td>6</td>\n",
       "      <td>2</td>\n",
       "      <td>3</td>\n",
       "      <td>69</td>\n",
       "      <td>7</td>\n",
       "      <td>3</td>\n",
       "      <td>42</td>\n",
       "      <td>6</td>\n",
       "      <td>1</td>\n",
       "    </tr>\n",
       "    <tr>\n",
       "      <th>323915</th>\n",
       "      <td>104</td>\n",
       "      <td>19148</td>\n",
       "      <td>12032</td>\n",
       "      <td>4</td>\n",
       "      <td>0.271119</td>\n",
       "      <td>7162</td>\n",
       "      <td>91</td>\n",
       "      <td>4</td>\n",
       "      <td>7</td>\n",
       "      <td>2</td>\n",
       "      <td>2</td>\n",
       "      <td>2</td>\n",
       "      <td>38</td>\n",
       "      <td>5</td>\n",
       "      <td>2</td>\n",
       "      <td>26</td>\n",
       "      <td>18</td>\n",
       "      <td>1</td>\n",
       "    </tr>\n",
       "    <tr>\n",
       "      <th>234869</th>\n",
       "      <td>104</td>\n",
       "      <td>13869</td>\n",
       "      <td>7661</td>\n",
       "      <td>1</td>\n",
       "      <td>0.050831</td>\n",
       "      <td>991</td>\n",
       "      <td>73</td>\n",
       "      <td>4</td>\n",
       "      <td>24</td>\n",
       "      <td>6</td>\n",
       "      <td>2</td>\n",
       "      <td>3</td>\n",
       "      <td>150</td>\n",
       "      <td>7</td>\n",
       "      <td>3</td>\n",
       "      <td>51</td>\n",
       "      <td>13</td>\n",
       "      <td>1</td>\n",
       "    </tr>\n",
       "    <tr>\n",
       "      <th>109518</th>\n",
       "      <td>104</td>\n",
       "      <td>6450</td>\n",
       "      <td>11566</td>\n",
       "      <td>1</td>\n",
       "      <td>0.033881</td>\n",
       "      <td>7099</td>\n",
       "      <td>9</td>\n",
       "      <td>5</td>\n",
       "      <td>24</td>\n",
       "      <td>2</td>\n",
       "      <td>2</td>\n",
       "      <td>2</td>\n",
       "      <td>28</td>\n",
       "      <td>7</td>\n",
       "      <td>3</td>\n",
       "      <td>43</td>\n",
       "      <td>2</td>\n",
       "      <td>1</td>\n",
       "    </tr>\n",
       "    <tr>\n",
       "      <th>108562</th>\n",
       "      <td>104</td>\n",
       "      <td>6395</td>\n",
       "      <td>4360</td>\n",
       "      <td>1</td>\n",
       "      <td>0.025407</td>\n",
       "      <td>5523</td>\n",
       "      <td>91</td>\n",
       "      <td>4</td>\n",
       "      <td>24</td>\n",
       "      <td>17</td>\n",
       "      <td>6</td>\n",
       "      <td>7</td>\n",
       "      <td>176</td>\n",
       "      <td>7</td>\n",
       "      <td>3</td>\n",
       "      <td>43</td>\n",
       "      <td>17</td>\n",
       "      <td>4</td>\n",
       "    </tr>\n",
       "  </tbody>\n",
       "</table>\n",
       "<p>40272 rows × 18 columns</p>\n",
       "</div>"
      ],
      "text/plain": [
       "        t_dat  customer_id  article_id  rating     price  prod_name  \\\n",
       "76381      91         4470        8178       1  0.013542       7135   \n",
       "141756     91         8370        1140       1  0.011847       3633   \n",
       "12712      91          715          50       1  0.022017        305   \n",
       "310496     91        18349        4215       1  0.008458       1502   \n",
       "232671     91        13752        9785       1  0.021593       5233   \n",
       "...       ...          ...         ...     ...       ...        ...   \n",
       "393390    104        23293         617       1  0.016932       4910   \n",
       "323915    104        19148       12032       4  0.271119       7162   \n",
       "234869    104        13869        7661       1  0.050831        991   \n",
       "109518    104         6450       11566       1  0.033881       7099   \n",
       "108562    104         6395        4360       1  0.025407       5523   \n",
       "\n",
       "        product_type_name  product_group_name  graphical_appearance_name  \\\n",
       "76381                  86                   5                         24   \n",
       "141756                 71                   4                          7   \n",
       "12712                  25                   3                         24   \n",
       "310496                 86                   5                         24   \n",
       "232671                  9                   5                         24   \n",
       "...                   ...                 ...                        ...   \n",
       "393390                 86                   5                         24   \n",
       "323915                 91                   4                          7   \n",
       "234869                 73                   4                         24   \n",
       "109518                  9                   5                         24   \n",
       "108562                 91                   4                         24   \n",
       "\n",
       "        colour_group_name  perceived_colour_value_name  \\\n",
       "76381                   2                            2   \n",
       "141756                  3                            6   \n",
       "12712                   2                            2   \n",
       "310496                 46                            4   \n",
       "232671                 47                            5   \n",
       "...                   ...                          ...   \n",
       "393390                  6                            2   \n",
       "323915                  2                            2   \n",
       "234869                  6                            2   \n",
       "109518                  2                            2   \n",
       "108562                 17                            6   \n",
       "\n",
       "        perceived_colour_master_name  department_name  index_name  \\\n",
       "76381                              2               23           5   \n",
       "141756                             3              147           7   \n",
       "12712                              2               23           5   \n",
       "310496                            16               69           7   \n",
       "232671                            17               28           7   \n",
       "...                              ...              ...         ...   \n",
       "393390                             3               69           7   \n",
       "323915                             2               38           5   \n",
       "234869                             3              150           7   \n",
       "109518                             2               28           7   \n",
       "108562                             7              176           7   \n",
       "\n",
       "        index_group_name  section_name  garment_group_name  age_group  \n",
       "76381                  2            12                   6          1  \n",
       "141756                 3            43                  12          1  \n",
       "12712                  2            12                   6          1  \n",
       "310496                 3            42                   6          2  \n",
       "232671                 3            41                   2          1  \n",
       "...                  ...           ...                 ...        ...  \n",
       "393390                 3            42                   6          1  \n",
       "323915                 2            26                  18          1  \n",
       "234869                 3            51                  13          1  \n",
       "109518                 3            43                   2          1  \n",
       "108562                 3            43                  17          4  \n",
       "\n",
       "[40272 rows x 18 columns]"
      ]
     },
     "execution_count": 64,
     "metadata": {},
     "output_type": "execute_result"
    }
   ],
   "source": [
    "data"
   ]
  },
  {
   "cell_type": "code",
   "execution_count": 22,
   "id": "b6639bd9",
   "metadata": {},
   "outputs": [
    {
     "data": {
      "text/plain": [
       "(14000, [7294], 9718, 0, 1)"
      ]
     },
     "execution_count": 22,
     "metadata": {},
     "output_type": "execute_result"
    }
   ],
   "source": [
    "train_set[0]"
   ]
  },
  {
   "cell_type": "code",
   "execution_count": null,
   "id": "14c83cf4",
   "metadata": {},
   "outputs": [],
   "source": []
  },
  {
   "cell_type": "code",
   "execution_count": 23,
   "id": "99b5768b",
   "metadata": {},
   "outputs": [
    {
     "name": "stderr",
     "output_type": "stream",
     "text": [
      "/home/ec2-user/anaconda3/envs/python3/lib/python3.6/site-packages/numpy/core/_asarray.py:136: VisibleDeprecationWarning: Creating an ndarray from ragged nested sequences (which is a list-or-tuple of lists-or-tuples-or ndarrays with different lengths or shapes) is deprecated. If you meant to do this, you must specify 'dtype=object' when creating the ndarray\n",
      "  return array(a, dtype, copy=False, order=order, subok=True)\n"
     ]
    }
   ],
   "source": [
    "np.save('neg_sampled_train_5_sampled_10', train_set)\n",
    "np.save('neg_sampled_test_5_sampled_10', test_set)"
   ]
  },
  {
   "cell_type": "code",
   "execution_count": 37,
   "id": "396f0eb3",
   "metadata": {},
   "outputs": [],
   "source": [
    "train_set = np.load('neg_sampled_train_5_sampled.npy', allow_pickle=True)"
   ]
  },
  {
   "cell_type": "code",
   "execution_count": 38,
   "id": "4be187ec",
   "metadata": {},
   "outputs": [],
   "source": [
    "test_set = np.load('neg_sampled_test_5_sampled.npy', allow_pickle=True)"
   ]
  },
  {
   "cell_type": "code",
   "execution_count": null,
   "id": "399d3e57",
   "metadata": {},
   "outputs": [],
   "source": [
    "len(test_set)"
   ]
  },
  {
   "cell_type": "code",
   "execution_count": 24,
   "id": "f5db572d",
   "metadata": {},
   "outputs": [
    {
     "data": {
      "text/plain": [
       "(30094, [26302, 21516, 874, 2552], 27236, 1, 4, 2)"
      ]
     },
     "execution_count": 24,
     "metadata": {},
     "output_type": "execute_result"
    }
   ],
   "source": [
    "train_set[3]"
   ]
  },
  {
   "cell_type": "code",
   "execution_count": 96,
   "id": "e18c2da7",
   "metadata": {},
   "outputs": [],
   "source": [
    "def gen_model_input(train_set,user_profile,seq_max_len):\n",
    "\n",
    "    train_uid = np.array([line[0] for line in train_set])\n",
    "    train_seq = [line[1] for line in train_set]\n",
    "    train_iid = np.array([line[2] for line in train_set])\n",
    "    train_label = np.array([line[3] for line in train_set])\n",
    "    train_hist_len = np.array([line[4] for line in train_set])\n",
    "\n",
    "    train_seq_pad = pad_sequences(train_seq, maxlen=seq_max_len, padding='post', truncating='post', value=0)\n",
    "    train_model_input = {\"customer_id\": train_uid, \"article_id\": train_iid, \"hist_article_id\": train_seq_pad,\n",
    "                         \"hist_len\": train_hist_len}\n",
    "\n",
    "    for key in ['prod_name',\n",
    "       'product_type_name', 'product_group_name', 'graphical_appearance_name',\n",
    "       'colour_group_name', 'perceived_colour_value_name',\n",
    "       'perceived_colour_master_name', 'department_name', 'index_name',\n",
    "       'index_group_name', 'section_name', 'garment_group_name', 'age_group']:\n",
    "        train_model_input[key] = user_profile.loc[train_model_input['customer_id']][key].values\n",
    "\n",
    "    return train_model_input, train_label"
   ]
  },
  {
   "cell_type": "code",
   "execution_count": 97,
   "id": "1433eec0",
   "metadata": {},
   "outputs": [],
   "source": [
    "user_profile = data[['customer_id', 'age_group', 'prod_name',\n",
    "       'product_type_name', 'product_group_name', 'graphical_appearance_name',\n",
    "       'colour_group_name', 'perceived_colour_value_name',\n",
    "       'perceived_colour_master_name', 'department_name', 'index_name',\n",
    "       'index_group_name', 'section_name', 'garment_group_name']].drop_duplicates('customer_id')"
   ]
  },
  {
   "cell_type": "code",
   "execution_count": 98,
   "id": "38221c9a",
   "metadata": {},
   "outputs": [],
   "source": [
    "user_profile.set_index(\"customer_id\", inplace=True)\n"
   ]
  },
  {
   "cell_type": "code",
   "execution_count": 99,
   "id": "436adaee",
   "metadata": {},
   "outputs": [
    {
     "name": "stdout",
     "output_type": "stream",
     "text": [
      "<class 'pandas.core.frame.DataFrame'>\n",
      "Int64Index: 54060 entries, 40007 to 16136\n",
      "Data columns (total 13 columns):\n",
      " #   Column                        Non-Null Count  Dtype\n",
      "---  ------                        --------------  -----\n",
      " 0   age_group                     54060 non-null  int64\n",
      " 1   prod_name                     54060 non-null  int64\n",
      " 2   product_type_name             54060 non-null  int64\n",
      " 3   product_group_name            54060 non-null  int64\n",
      " 4   graphical_appearance_name     54060 non-null  int64\n",
      " 5   colour_group_name             54060 non-null  int64\n",
      " 6   perceived_colour_value_name   54060 non-null  int64\n",
      " 7   perceived_colour_master_name  54060 non-null  int64\n",
      " 8   department_name               54060 non-null  int64\n",
      " 9   index_name                    54060 non-null  int64\n",
      " 10  index_group_name              54060 non-null  int64\n",
      " 11  section_name                  54060 non-null  int64\n",
      " 12  garment_group_name            54060 non-null  int64\n",
      "dtypes: int64(13)\n",
      "memory usage: 5.8 MB\n"
     ]
    }
   ],
   "source": [
    "user_profile.info()"
   ]
  },
  {
   "cell_type": "code",
   "execution_count": 100,
   "id": "f67a9f2a",
   "metadata": {},
   "outputs": [],
   "source": [
    "train_model_input, train_label = gen_model_input(train_set, user_profile, SEQ_LEN)\n",
    "# test_model_input, test_label = gen_model_input(test_set, user_profile, SEQ_LEN)\n",
    "\n"
   ]
  },
  {
   "cell_type": "code",
   "execution_count": 101,
   "id": "e87361a8",
   "metadata": {},
   "outputs": [
    {
     "data": {
      "text/html": [
       "<div>\n",
       "<style scoped>\n",
       "    .dataframe tbody tr th:only-of-type {\n",
       "        vertical-align: middle;\n",
       "    }\n",
       "\n",
       "    .dataframe tbody tr th {\n",
       "        vertical-align: top;\n",
       "    }\n",
       "\n",
       "    .dataframe thead th {\n",
       "        text-align: right;\n",
       "    }\n",
       "</style>\n",
       "<table border=\"1\" class=\"dataframe\">\n",
       "  <thead>\n",
       "    <tr style=\"text-align: right;\">\n",
       "      <th></th>\n",
       "      <th>age_group</th>\n",
       "      <th>prod_name</th>\n",
       "      <th>product_type_name</th>\n",
       "      <th>product_group_name</th>\n",
       "      <th>graphical_appearance_name</th>\n",
       "      <th>colour_group_name</th>\n",
       "      <th>perceived_colour_value_name</th>\n",
       "      <th>perceived_colour_master_name</th>\n",
       "      <th>department_name</th>\n",
       "      <th>index_name</th>\n",
       "      <th>index_group_name</th>\n",
       "      <th>section_name</th>\n",
       "      <th>garment_group_name</th>\n",
       "    </tr>\n",
       "    <tr>\n",
       "      <th>customer_id</th>\n",
       "      <th></th>\n",
       "      <th></th>\n",
       "      <th></th>\n",
       "      <th></th>\n",
       "      <th></th>\n",
       "      <th></th>\n",
       "      <th></th>\n",
       "      <th></th>\n",
       "      <th></th>\n",
       "      <th></th>\n",
       "      <th></th>\n",
       "      <th></th>\n",
       "      <th></th>\n",
       "    </tr>\n",
       "  </thead>\n",
       "  <tbody>\n",
       "    <tr>\n",
       "      <th>40007</th>\n",
       "      <td>1</td>\n",
       "      <td>3080</td>\n",
       "      <td>95</td>\n",
       "      <td>7</td>\n",
       "      <td>26</td>\n",
       "      <td>9</td>\n",
       "      <td>6</td>\n",
       "      <td>4</td>\n",
       "      <td>78</td>\n",
       "      <td>7</td>\n",
       "      <td>3</td>\n",
       "      <td>43</td>\n",
       "      <td>6</td>\n",
       "    </tr>\n",
       "    <tr>\n",
       "      <th>10445</th>\n",
       "      <td>1</td>\n",
       "      <td>774</td>\n",
       "      <td>8</td>\n",
       "      <td>13</td>\n",
       "      <td>1</td>\n",
       "      <td>47</td>\n",
       "      <td>4</td>\n",
       "      <td>16</td>\n",
       "      <td>183</td>\n",
       "      <td>8</td>\n",
       "      <td>3</td>\n",
       "      <td>51</td>\n",
       "      <td>16</td>\n",
       "    </tr>\n",
       "    <tr>\n",
       "      <th>45556</th>\n",
       "      <td>1</td>\n",
       "      <td>13999</td>\n",
       "      <td>95</td>\n",
       "      <td>7</td>\n",
       "      <td>26</td>\n",
       "      <td>2</td>\n",
       "      <td>2</td>\n",
       "      <td>2</td>\n",
       "      <td>26</td>\n",
       "      <td>5</td>\n",
       "      <td>2</td>\n",
       "      <td>12</td>\n",
       "      <td>6</td>\n",
       "    </tr>\n",
       "    <tr>\n",
       "      <th>50126</th>\n",
       "      <td>1</td>\n",
       "      <td>5129</td>\n",
       "      <td>105</td>\n",
       "      <td>14</td>\n",
       "      <td>26</td>\n",
       "      <td>2</td>\n",
       "      <td>2</td>\n",
       "      <td>2</td>\n",
       "      <td>163</td>\n",
       "      <td>8</td>\n",
       "      <td>3</td>\n",
       "      <td>46</td>\n",
       "      <td>19</td>\n",
       "    </tr>\n",
       "    <tr>\n",
       "      <th>390</th>\n",
       "      <td>1</td>\n",
       "      <td>4077</td>\n",
       "      <td>28</td>\n",
       "      <td>5</td>\n",
       "      <td>27</td>\n",
       "      <td>30</td>\n",
       "      <td>4</td>\n",
       "      <td>16</td>\n",
       "      <td>78</td>\n",
       "      <td>7</td>\n",
       "      <td>3</td>\n",
       "      <td>43</td>\n",
       "      <td>6</td>\n",
       "    </tr>\n",
       "    <tr>\n",
       "      <th>...</th>\n",
       "      <td>...</td>\n",
       "      <td>...</td>\n",
       "      <td>...</td>\n",
       "      <td>...</td>\n",
       "      <td>...</td>\n",
       "      <td>...</td>\n",
       "      <td>...</td>\n",
       "      <td>...</td>\n",
       "      <td>...</td>\n",
       "      <td>...</td>\n",
       "      <td>...</td>\n",
       "      <td>...</td>\n",
       "      <td>...</td>\n",
       "    </tr>\n",
       "    <tr>\n",
       "      <th>7364</th>\n",
       "      <td>3</td>\n",
       "      <td>13051</td>\n",
       "      <td>100</td>\n",
       "      <td>6</td>\n",
       "      <td>8</td>\n",
       "      <td>8</td>\n",
       "      <td>2</td>\n",
       "      <td>6</td>\n",
       "      <td>46</td>\n",
       "      <td>9</td>\n",
       "      <td>4</td>\n",
       "      <td>9</td>\n",
       "      <td>18</td>\n",
       "    </tr>\n",
       "    <tr>\n",
       "      <th>42201</th>\n",
       "      <td>1</td>\n",
       "      <td>6668</td>\n",
       "      <td>105</td>\n",
       "      <td>14</td>\n",
       "      <td>26</td>\n",
       "      <td>2</td>\n",
       "      <td>2</td>\n",
       "      <td>2</td>\n",
       "      <td>163</td>\n",
       "      <td>8</td>\n",
       "      <td>3</td>\n",
       "      <td>46</td>\n",
       "      <td>19</td>\n",
       "    </tr>\n",
       "    <tr>\n",
       "      <th>45856</th>\n",
       "      <td>1</td>\n",
       "      <td>3068</td>\n",
       "      <td>62</td>\n",
       "      <td>1</td>\n",
       "      <td>1</td>\n",
       "      <td>25</td>\n",
       "      <td>3</td>\n",
       "      <td>12</td>\n",
       "      <td>140</td>\n",
       "      <td>6</td>\n",
       "      <td>3</td>\n",
       "      <td>50</td>\n",
       "      <td>1</td>\n",
       "    </tr>\n",
       "    <tr>\n",
       "      <th>7496</th>\n",
       "      <td>1</td>\n",
       "      <td>7470</td>\n",
       "      <td>13</td>\n",
       "      <td>11</td>\n",
       "      <td>26</td>\n",
       "      <td>2</td>\n",
       "      <td>2</td>\n",
       "      <td>2</td>\n",
       "      <td>34</td>\n",
       "      <td>6</td>\n",
       "      <td>3</td>\n",
       "      <td>49</td>\n",
       "      <td>11</td>\n",
       "    </tr>\n",
       "    <tr>\n",
       "      <th>16136</th>\n",
       "      <td>1</td>\n",
       "      <td>14263</td>\n",
       "      <td>98</td>\n",
       "      <td>7</td>\n",
       "      <td>26</td>\n",
       "      <td>49</td>\n",
       "      <td>6</td>\n",
       "      <td>4</td>\n",
       "      <td>122</td>\n",
       "      <td>10</td>\n",
       "      <td>5</td>\n",
       "      <td>27</td>\n",
       "      <td>7</td>\n",
       "    </tr>\n",
       "  </tbody>\n",
       "</table>\n",
       "<p>54060 rows × 13 columns</p>\n",
       "</div>"
      ],
      "text/plain": [
       "             age_group  prod_name  product_type_name  product_group_name  \\\n",
       "customer_id                                                                \n",
       "40007                1       3080                 95                   7   \n",
       "10445                1        774                  8                  13   \n",
       "45556                1      13999                 95                   7   \n",
       "50126                1       5129                105                  14   \n",
       "390                  1       4077                 28                   5   \n",
       "...                ...        ...                ...                 ...   \n",
       "7364                 3      13051                100                   6   \n",
       "42201                1       6668                105                  14   \n",
       "45856                1       3068                 62                   1   \n",
       "7496                 1       7470                 13                  11   \n",
       "16136                1      14263                 98                   7   \n",
       "\n",
       "             graphical_appearance_name  colour_group_name  \\\n",
       "customer_id                                                 \n",
       "40007                               26                  9   \n",
       "10445                                1                 47   \n",
       "45556                               26                  2   \n",
       "50126                               26                  2   \n",
       "390                                 27                 30   \n",
       "...                                ...                ...   \n",
       "7364                                 8                  8   \n",
       "42201                               26                  2   \n",
       "45856                                1                 25   \n",
       "7496                                26                  2   \n",
       "16136                               26                 49   \n",
       "\n",
       "             perceived_colour_value_name  perceived_colour_master_name  \\\n",
       "customer_id                                                              \n",
       "40007                                  6                             4   \n",
       "10445                                  4                            16   \n",
       "45556                                  2                             2   \n",
       "50126                                  2                             2   \n",
       "390                                    4                            16   \n",
       "...                                  ...                           ...   \n",
       "7364                                   2                             6   \n",
       "42201                                  2                             2   \n",
       "45856                                  3                            12   \n",
       "7496                                   2                             2   \n",
       "16136                                  6                             4   \n",
       "\n",
       "             department_name  index_name  index_group_name  section_name  \\\n",
       "customer_id                                                                \n",
       "40007                     78           7                 3            43   \n",
       "10445                    183           8                 3            51   \n",
       "45556                     26           5                 2            12   \n",
       "50126                    163           8                 3            46   \n",
       "390                       78           7                 3            43   \n",
       "...                      ...         ...               ...           ...   \n",
       "7364                      46           9                 4             9   \n",
       "42201                    163           8                 3            46   \n",
       "45856                    140           6                 3            50   \n",
       "7496                      34           6                 3            49   \n",
       "16136                    122          10                 5            27   \n",
       "\n",
       "             garment_group_name  \n",
       "customer_id                      \n",
       "40007                         6  \n",
       "10445                        16  \n",
       "45556                         6  \n",
       "50126                        19  \n",
       "390                           6  \n",
       "...                         ...  \n",
       "7364                         18  \n",
       "42201                        19  \n",
       "45856                         1  \n",
       "7496                         11  \n",
       "16136                         7  \n",
       "\n",
       "[54060 rows x 13 columns]"
      ]
     },
     "execution_count": 101,
     "metadata": {},
     "output_type": "execute_result"
    }
   ],
   "source": [
    "user_profile"
   ]
  },
  {
   "cell_type": "code",
   "execution_count": 102,
   "id": "bcca3729",
   "metadata": {},
   "outputs": [],
   "source": [
    "import pandas as pd\n",
    "from deepctr.feature_column import SparseFeat,get_feature_names\n",
    "from sklearn.preprocessing import LabelEncoder\n",
    "from tensorflow.python.keras.models import Model\n",
    "from deepmatch.models import *\n",
    "\n",
    "embedding_dim = 32\n",
    "SEQ_LEN = 30\n",
    "user_feature_columns = [SparseFeat('customer_id', feature_max_idx[\"customer_id\"], embedding_dim),\n",
    "                        SparseFeat(\"age_group\", feature_max_idx[\"age_group\"], embedding_dim),\n",
    "                        VarLenSparseFeat(SparseFeat('hist_article_id', feature_max_idx[\"article_id\"], embedding_dim,\n",
    "                                                    embedding_name=\"article_id\"), SEQ_LEN, 'mean', 'hist_len'),\n",
    "                        ]\n",
    "\n",
    "item_feature_columns = [SparseFeat(col, feature_max_idx[col], embedding_dim) for col in [\n",
    "    'article_id', 'prod_name',\n",
    "       'product_type_name', 'product_group_name', 'graphical_appearance_name',\n",
    "       'colour_group_name', 'perceived_colour_value_name',\n",
    "       'perceived_colour_master_name', 'department_name', 'index_name',\n",
    "       'index_group_name', 'section_name', 'garment_group_name']]\n"
   ]
  },
  {
   "cell_type": "code",
   "execution_count": 103,
   "id": "a2d19d87",
   "metadata": {},
   "outputs": [],
   "source": [
    "from deepctr.feature_column import build_input_features\n",
    "from deepctr.inputs import create_embedding_matrix\n",
    "from deepctr.layers.utils import combined_dnn_input \n",
    "from deepctr.layers.core import PredictionLayer, DNN\n",
    "from tensorflow.python.keras.models import Model\n",
    "from deepmatch.inputs import input_from_feature_columns\n",
    "from deepmatch.layers.core import Similarity\n",
    "\n",
    "\n",
    "def DSSM(user_feature_columns, item_feature_columns, user_dnn_hidden_units=(64, 32),\n",
    "         item_dnn_hidden_units=(64, 32),\n",
    "         dnn_activation='tanh', dnn_use_bn=False,\n",
    "         l2_reg_dnn=0, l2_reg_embedding=1e-6, dnn_dropout=0, seed=1024, metric='cos'):\n",
    "    \"\"\"Instantiates the Deep Structured Semantic Model architecture.\n",
    "    :param user_feature_columns: An iterable containing user's features used by  the model.\n",
    "    :param item_feature_columns: An iterable containing item's features used by  the model.\n",
    "    :param user_dnn_hidden_units: list,list of positive integer or empty list, the layer number and units in each layer of user tower\n",
    "    :param item_dnn_hidden_units: list,list of positive integer or empty list, the layer number and units in each layer of item tower\n",
    "    :param dnn_activation: Activation function to use in deep net\n",
    "    :param dnn_use_bn: bool. Whether use BatchNormalization before activation or not in deep net\n",
    "    :param l2_reg_dnn: float. L2 regularizer strength applied to DNN\n",
    "    :param l2_reg_embedding: float. L2 regularizer strength applied to embedding vector\n",
    "    :param dnn_dropout: float in [0,1), the probability we will drop out a given DNN coordinate.\n",
    "    :param seed: integer ,to use as random seed.\n",
    "    :param metric: str, ``\"cos\"`` for  cosine  or  ``\"ip\"`` for inner product\n",
    "    :return: A Keras model instance.\n",
    "    \"\"\"\n",
    "\n",
    "    embedding_matrix_dict = create_embedding_matrix(user_feature_columns + item_feature_columns, l2_reg_embedding,\n",
    "                                                    seed=seed,\n",
    "                                                    seq_mask_zero=True)\n",
    "\n",
    "    user_features = build_input_features(user_feature_columns)\n",
    "    user_inputs_list = list(user_features.values())\n",
    "    user_sparse_embedding_list, user_dense_value_list = input_from_feature_columns(user_features,\n",
    "                                                                                   user_feature_columns,\n",
    "                                                                                   l2_reg_embedding, seed=seed,\n",
    "                                                                                   embedding_matrix_dict=embedding_matrix_dict)\n",
    "    user_dnn_input = combined_dnn_input(user_sparse_embedding_list, user_dense_value_list)\n",
    "\n",
    "    item_features = build_input_features(item_feature_columns)\n",
    "    item_inputs_list = list(item_features.values())\n",
    "    item_sparse_embedding_list, item_dense_value_list = input_from_feature_columns(item_features,\n",
    "                                                                                   item_feature_columns,\n",
    "                                                                                   l2_reg_embedding, seed=seed,\n",
    "                                                                                   embedding_matrix_dict=embedding_matrix_dict)\n",
    "    item_dnn_input = combined_dnn_input(item_sparse_embedding_list, item_dense_value_list)\n",
    "\n",
    "    user_dnn_out = DNN(user_dnn_hidden_units, dnn_activation, l2_reg_dnn, dnn_dropout,\n",
    "                       dnn_use_bn, seed=seed)(user_dnn_input)\n",
    "\n",
    "    item_dnn_out = DNN(item_dnn_hidden_units, dnn_activation, l2_reg_dnn, dnn_dropout,\n",
    "                       dnn_use_bn, seed=seed)(item_dnn_input)\n",
    "\n",
    "    score = Similarity(type=metric, gamma = 10)([user_dnn_out, item_dnn_out])\n",
    "\n",
    "    output = PredictionLayer(\"binary\", False)(score)\n",
    "\n",
    "    model = Model(inputs=user_inputs_list + item_inputs_list, outputs=output)\n",
    "\n",
    "    model.__setattr__(\"user_input\", user_inputs_list)\n",
    "    model.__setattr__(\"item_input\", item_inputs_list)\n",
    "    model.__setattr__(\"user_embedding\", user_dnn_out)\n",
    "    model.__setattr__(\"item_embedding\", item_dnn_out)\n",
    "\n",
    "    return model"
   ]
  },
  {
   "cell_type": "code",
   "execution_count": 110,
   "id": "38cd2e0a",
   "metadata": {},
   "outputs": [
    {
     "name": "stdout",
     "output_type": "stream",
     "text": [
      "Epoch 1/3\n",
      "335/335 [==============================] - 4s 9ms/step - loss: 0.7402 - accuracy: 0.4699 - val_loss: 0.7011 - val_accuracy: 0.4893\n",
      "Epoch 2/3\n",
      "335/335 [==============================] - 3s 8ms/step - loss: 0.6204 - accuracy: 0.6710 - val_loss: 0.6974 - val_accuracy: 0.5724\n",
      "Epoch 3/3\n",
      "335/335 [==============================] - 2s 7ms/step - loss: 0.5447 - accuracy: 0.7270 - val_loss: 0.7236 - val_accuracy: 0.5935\n"
     ]
    }
   ],
   "source": [
    "model = DSSM(user_feature_columns, item_feature_columns)\n",
    "model.compile(optimizer='adagrad', loss=\"binary_crossentropy\", metrics=['accuracy'])\n",
    "\n",
    "history = model.fit(train_model_input, train_label,\n",
    "                    batch_size=256, epochs=3, verbose=1, validation_split=0.2)"
   ]
  },
  {
   "cell_type": "code",
   "execution_count": 111,
   "id": "131ed1fc",
   "metadata": {},
   "outputs": [],
   "source": [
    "def get_test_model_input(train_set,user_profile,seq_max_len):\n",
    "\n",
    "    train_uid = np.array([line[0] for line in train_set])\n",
    "    train_seq = [line[1] for line in train_set]\n",
    "    train_iid = np.array([line[2] for line in train_set])\n",
    "    train_label = np.array([line[3] for line in train_set])\n",
    "    train_hist_len = np.array([line[4] for line in train_set])\n",
    "\n",
    "    train_seq_pad = pad_sequences(train_seq, maxlen=seq_max_len, padding='post', truncating='post', value=0)\n",
    "    train_model_input = {\"customer_id\": train_uid, \"hist_article_id\": train_seq_pad,\n",
    "                         \"hist_len\": train_hist_len}\n",
    "\n",
    "    for key in ['age_group']:\n",
    "        train_model_input[key] = user_profile.loc[train_model_input['customer_id']][key].values\n",
    "\n",
    "    return train_model_input, train_label"
   ]
  },
  {
   "cell_type": "code",
   "execution_count": 112,
   "id": "a18bf3b3",
   "metadata": {},
   "outputs": [
    {
     "data": {
      "text/plain": [
       "Index(['article_id', 'prod_name', 'product_type_name', 'product_group_name',\n",
       "       'graphical_appearance_name', 'colour_group_name',\n",
       "       'perceived_colour_value_name', 'perceived_colour_master_name',\n",
       "       'department_name', 'index_name', 'index_group_name', 'section_name',\n",
       "       'garment_group_name'],\n",
       "      dtype='object')"
      ]
     },
     "execution_count": 112,
     "metadata": {},
     "output_type": "execute_result"
    }
   ],
   "source": [
    "item_profile.columns"
   ]
  },
  {
   "cell_type": "code",
   "execution_count": 113,
   "id": "55e6ee9a",
   "metadata": {},
   "outputs": [
    {
     "name": "stdout",
     "output_type": "stream",
     "text": [
      "(29374, 32)\n",
      "(28507, 32)\n"
     ]
    }
   ],
   "source": [
    "test_user_model_input, _ = get_test_model_input(test_set, user_profile, SEQ_LEN)\n",
    "all_item_model_input = {col: item_profile[col].values for col in ['article_id', 'prod_name', 'product_type_name', 'product_group_name',\n",
    "       'graphical_appearance_name', 'colour_group_name',\n",
    "       'perceived_colour_value_name', 'perceived_colour_master_name',\n",
    "       'department_name', 'index_name', 'index_group_name', 'section_name',\n",
    "       'garment_group_name']}\n",
    "\n",
    "user_embedding_model = Model(inputs=model.user_input, outputs=model.user_embedding)\n",
    "item_embedding_model = Model(inputs=model.item_input, outputs=model.item_embedding)\n",
    "\n",
    "user_embs = user_embedding_model.predict(test_user_model_input, batch_size=2 ** 12)\n",
    "item_embs = item_embedding_model.predict(all_item_model_input, batch_size=2 ** 12)\n",
    "\n",
    "print(user_embs.shape)\n",
    "print(item_embs.shape)\n",
    "\n",
    "    "
   ]
  },
  {
   "cell_type": "code",
   "execution_count": 114,
   "id": "172dec83",
   "metadata": {},
   "outputs": [
    {
     "name": "stdout",
     "output_type": "stream",
     "text": [
      "Requirement already satisfied: faiss-cpu in /home/ec2-user/anaconda3/envs/python3/lib/python3.6/site-packages (1.7.2)\n",
      "Note: you may need to restart the kernel to use updated packages.\n"
     ]
    }
   ],
   "source": [
    "pip install faiss-cpu --no-cache"
   ]
  },
  {
   "cell_type": "code",
   "execution_count": 116,
   "id": "9a7bedc5",
   "metadata": {},
   "outputs": [
    {
     "name": "stderr",
     "output_type": "stream",
     "text": [
      "29374it [00:01, 17865.50it/s]"
     ]
    },
    {
     "name": "stdout",
     "output_type": "stream",
     "text": [
      "recall 0.005378906515966501\n",
      "hr 0.005378906515966501\n"
     ]
    },
    {
     "name": "stderr",
     "output_type": "stream",
     "text": [
      "\n"
     ]
    }
   ],
   "source": [
    "# 5. [Optional] ANN search by faiss  and evaluate the result\n",
    "\n",
    "test_true_label = {line[0]:[line[2]] for line in test_set}\n",
    "\n",
    "import numpy as np\n",
    "import faiss\n",
    "from tqdm import tqdm\n",
    "from deepmatch.utils import recall_N\n",
    "\n",
    "index = faiss.IndexFlatIP(embedding_dim)\n",
    "# faiss.normalize_L2(item_embs)\n",
    "index.add(item_embs)\n",
    "# faiss.normalize_L2(user_embs)\n",
    "D, I = index.search(user_embs, 12)\n",
    "s = []\n",
    "hit = 0\n",
    "for i, uid in tqdm(enumerate(test_user_model_input['customer_id'])):\n",
    "    try:\n",
    "        pred = [item_profile['article_id'].values[x] for x in I[i]]\n",
    "        filter_item = None\n",
    "        recall_score = recall_N(test_true_label[uid], pred, N=12)\n",
    "        s.append(recall_score)\n",
    "        if test_true_label[uid] in pred:\n",
    "            hit += 1\n",
    "    except:\n",
    "        print(i)\n",
    "print(\"recall\", np.mean(s))\n",
    "print(\"hr\", hit / len(test_user_model_input['customer_id']))"
   ]
  },
  {
   "cell_type": "code",
   "execution_count": null,
   "id": "60d8ee1d",
   "metadata": {},
   "outputs": [],
   "source": []
  }
 ],
 "metadata": {
  "kernelspec": {
   "display_name": "conda_python3",
   "language": "python",
   "name": "conda_python3"
  },
  "language_info": {
   "codemirror_mode": {
    "name": "ipython",
    "version": 3
   },
   "file_extension": ".py",
   "mimetype": "text/x-python",
   "name": "python",
   "nbconvert_exporter": "python",
   "pygments_lexer": "ipython3",
   "version": "3.6.13"
  }
 },
 "nbformat": 4,
 "nbformat_minor": 5
}
